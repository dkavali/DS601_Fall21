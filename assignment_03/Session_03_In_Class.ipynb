{
  "nbformat": 4,
  "nbformat_minor": 0,
  "metadata": {
    "colab": {
      "name": "Session_03_In_Class.ipynb",
      "provenance": [],
      "authorship_tag": "ABX9TyPk06+n+t6ghcZTE2Vhsd+5",
      "include_colab_link": true
    },
    "kernelspec": {
      "name": "python3",
      "display_name": "Python 3"
    },
    "language_info": {
      "name": "python"
    }
  },
  "cells": [
    {
      "cell_type": "markdown",
      "metadata": {
        "id": "view-in-github",
        "colab_type": "text"
      },
      "source": [
        "<a href=\"https://colab.research.google.com/github/dkavali/DS601_Fall21/blob/main/assignment_03/Session_03_In_Class.ipynb\" target=\"_parent\"><img src=\"https://colab.research.google.com/assets/colab-badge.svg\" alt=\"Open In Colab\"/></a>"
      ]
    },
    {
      "cell_type": "markdown",
      "metadata": {
        "id": "YDIDy0818UWU"
      },
      "source": [
        "# Session 3 In Class Practice\n",
        "- Dikshitha Kavali\n",
        "- September 16\n"
      ]
    },
    {
      "cell_type": "markdown",
      "metadata": {
        "id": "YC4bG95j8-PD"
      },
      "source": [
        "## 1. List Comprehension"
      ]
    },
    {
      "cell_type": "code",
      "metadata": {
        "colab": {
          "base_uri": "https://localhost:8080/"
        },
        "id": "IlOiYpNx8rcZ",
        "outputId": "dcc6c7dd-1eb9-4d38-9193-ce4160cc807d"
      },
      "source": [
        "# This is traditional way using \"FOR\" loop.\n",
        "x = [2, 5, -7, 10, 12]\n",
        "\n",
        "y = []\n",
        "\n",
        "for i in x:\n",
        "    new_num = i+10\n",
        "    y.append(new_num)\n",
        "\n",
        "print(y)\n"
      ],
      "execution_count": 26,
      "outputs": [
        {
          "output_type": "stream",
          "name": "stdout",
          "text": [
            "[12, 15, 3, 20, 22]\n"
          ]
        }
      ]
    },
    {
      "cell_type": "code",
      "metadata": {
        "colab": {
          "base_uri": "https://localhost:8080/"
        },
        "id": "u1283k1B-bSp",
        "outputId": "c4c17ba2-c484-43bd-aa72-e48abf3928cf"
      },
      "source": [
        "# New way using List Comprehension\n",
        "\n",
        "y = [i+10 for i in x]\n",
        "\n",
        "print(y)"
      ],
      "execution_count": 27,
      "outputs": [
        {
          "output_type": "stream",
          "name": "stdout",
          "text": [
            "[12, 15, 3, 20, 22]\n"
          ]
        }
      ]
    },
    {
      "cell_type": "markdown",
      "metadata": {
        "id": "xHyQ3oLV-1js"
      },
      "source": [
        "## 2. User-defined Function\n"
      ]
    },
    {
      "cell_type": "code",
      "metadata": {
        "colab": {
          "base_uri": "https://localhost:8080/"
        },
        "id": "6_e4BiO6_Dfn",
        "outputId": "b612a455-9bd8-4660-c259-f996eb4df62d"
      },
      "source": [
        "def addition(a,b):\n",
        "    return a+b\n",
        "\n",
        "y = addition(5, 10)\n",
        "print(y)"
      ],
      "execution_count": null,
      "outputs": [
        {
          "output_type": "stream",
          "name": "stdout",
          "text": [
            "15\n"
          ]
        }
      ]
    },
    {
      "cell_type": "code",
      "metadata": {
        "colab": {
          "base_uri": "https://localhost:8080/"
        },
        "id": "ergLhlqa_1jO",
        "outputId": "f2359b64-6218-43de-af4c-0b052cad071a"
      },
      "source": [
        "def division(a, b):\n",
        "    return a/b\n",
        "\n",
        "y = division(5, 10)\n",
        "print(y)"
      ],
      "execution_count": null,
      "outputs": [
        {
          "output_type": "stream",
          "name": "stdout",
          "text": [
            "0.5\n"
          ]
        }
      ]
    },
    {
      "cell_type": "markdown",
      "metadata": {
        "id": "dIGjXacJCY2k"
      },
      "source": [
        "## 3. Data Wrangling"
      ]
    },
    {
      "cell_type": "code",
      "metadata": {
        "colab": {
          "base_uri": "https://localhost:8080/"
        },
        "id": "o59knMfxCfU_",
        "outputId": "dc127c81-9393-4e16-f956-428f8a450bdd"
      },
      "source": [
        "header_string = \"\"\"\n",
        "    age: continuous.\n",
        "    workclass: Private, Self-emp-not-inc, Self-emp-inc, Federal-gov, Local-gov, State-gov, Without-pay, Never-worked.\n",
        "    fnlwgt: continuous.\n",
        "    education: Bachelors, Some-college, 11th, HS-grad, Prof-school, Assoc-acdm, Assoc-voc, 9th, 7th-8th, 12th, Masters, 1st-4th, 10th, Doctorate, 5th-6th, Preschool.\n",
        "    education-num: continuous.\n",
        "    marital-status: Married-civ-spouse, Divorced, Never-married, Separated, Widowed, Married-spouse-absent, Married-AF-spouse.\n",
        "    occupation: Tech-support, Craft-repair, Other-service, Sales, Exec-managerial, Prof-specialty, Handlers-cleaners, Machine-op-inspct, Adm-clerical, Farming-fishing, Transport-moving, Priv-house-serv, Protective-serv, Armed-Forces.\n",
        "    relationship: Wife, Own-child, Husband, Not-in-family, Other-relative, Unmarried.\n",
        "    race: White, Asian-Pac-Islander, Amer-Indian-Eskimo, Other, Black.\n",
        "    sex: Female, Male.\n",
        "    capital-gain: continuous.\n",
        "    capital-loss: continuous.\n",
        "    hours-per-week: continuous.\n",
        "    native-country: United-States, Cambodia, England, Puerto-Rico, Canada, Germany, Outlying-US(Guam-USVI-etc), India, Japan, Greece, South, China, Cuba, Iran, Honduras, Philippines, Italy, Poland, Jamaica, Vietnam, Mexico, Portugal, Ireland, France, Dominican-Republic, Laos, Ecuador, Taiwan, Haiti, Columbia, Hungary, Guatemala, Nicaragua, Scotland, Thailand, Yugoslavia, El-Salvador, Trinadad&Tobago, Peru, Hong, Holand-Netherlands.\n",
        "    \"\"\"\n",
        "\n",
        "type(header_string)"
      ],
      "execution_count": null,
      "outputs": [
        {
          "output_type": "execute_result",
          "data": {
            "text/plain": [
              "str"
            ]
          },
          "metadata": {},
          "execution_count": 11
        }
      ]
    },
    {
      "cell_type": "code",
      "metadata": {
        "colab": {
          "base_uri": "https://localhost:8080/"
        },
        "id": "BYvB_dXSEAHt",
        "outputId": "994d1357-07f3-4dc6-9de1-7340bf50cb73"
      },
      "source": [
        "# Length of the string\n",
        "\n",
        "len(header_string)"
      ],
      "execution_count": null,
      "outputs": [
        {
          "output_type": "execute_result",
          "data": {
            "text/plain": [
              "1434"
            ]
          },
          "metadata": {},
          "execution_count": 12
        }
      ]
    },
    {
      "cell_type": "code",
      "metadata": {
        "colab": {
          "base_uri": "https://localhost:8080/"
        },
        "id": "fDXpNkGVE0RK",
        "outputId": "f592a0bd-23a8-47f2-ae1b-daa452761902"
      },
      "source": [
        "header_list = header_string.split(\"\\n\")\n",
        "\n",
        "print(header_list)"
      ],
      "execution_count": null,
      "outputs": [
        {
          "output_type": "stream",
          "name": "stdout",
          "text": [
            "['', '    age: continuous.', '    workclass: Private, Self-emp-not-inc, Self-emp-inc, Federal-gov, Local-gov, State-gov, Without-pay, Never-worked.', '    fnlwgt: continuous.', '    education: Bachelors, Some-college, 11th, HS-grad, Prof-school, Assoc-acdm, Assoc-voc, 9th, 7th-8th, 12th, Masters, 1st-4th, 10th, Doctorate, 5th-6th, Preschool.', '    education-num: continuous.', '    marital-status: Married-civ-spouse, Divorced, Never-married, Separated, Widowed, Married-spouse-absent, Married-AF-spouse.', '    occupation: Tech-support, Craft-repair, Other-service, Sales, Exec-managerial, Prof-specialty, Handlers-cleaners, Machine-op-inspct, Adm-clerical, Farming-fishing, Transport-moving, Priv-house-serv, Protective-serv, Armed-Forces.', '    relationship: Wife, Own-child, Husband, Not-in-family, Other-relative, Unmarried.', '    race: White, Asian-Pac-Islander, Amer-Indian-Eskimo, Other, Black.', '    sex: Female, Male.', '    capital-gain: continuous.', '    capital-loss: continuous.', '    hours-per-week: continuous.', '    native-country: United-States, Cambodia, England, Puerto-Rico, Canada, Germany, Outlying-US(Guam-USVI-etc), India, Japan, Greece, South, China, Cuba, Iran, Honduras, Philippines, Italy, Poland, Jamaica, Vietnam, Mexico, Portugal, Ireland, France, Dominican-Republic, Laos, Ecuador, Taiwan, Haiti, Columbia, Hungary, Guatemala, Nicaragua, Scotland, Thailand, Yugoslavia, El-Salvador, Trinadad&Tobago, Peru, Hong, Holand-Netherlands.', '    ']\n"
          ]
        }
      ]
    },
    {
      "cell_type": "code",
      "metadata": {
        "colab": {
          "base_uri": "https://localhost:8080/"
        },
        "id": "ZG2vlvzPFemi",
        "outputId": "86f5d04c-dc5d-4bd7-c10a-9897dec35c2c"
      },
      "source": [
        "len(header_list)"
      ],
      "execution_count": null,
      "outputs": [
        {
          "output_type": "execute_result",
          "data": {
            "text/plain": [
              "16"
            ]
          },
          "metadata": {},
          "execution_count": 15
        }
      ]
    },
    {
      "cell_type": "code",
      "metadata": {
        "colab": {
          "base_uri": "https://localhost:8080/",
          "height": 35
        },
        "id": "e_h5le_JFnjN",
        "outputId": "19fd08f9-85aa-4ef5-90e6-a672982f1bff"
      },
      "source": [
        "header_list[0]"
      ],
      "execution_count": null,
      "outputs": [
        {
          "output_type": "execute_result",
          "data": {
            "application/vnd.google.colaboratory.intrinsic+json": {
              "type": "string"
            },
            "text/plain": [
              "''"
            ]
          },
          "metadata": {},
          "execution_count": 16
        }
      ]
    },
    {
      "cell_type": "code",
      "metadata": {
        "colab": {
          "base_uri": "https://localhost:8080/",
          "height": 35
        },
        "id": "osWB9xeTF0CH",
        "outputId": "9258a6b7-0f8c-4866-9aa0-0250ce4cb1df"
      },
      "source": [
        "header_list[2]"
      ],
      "execution_count": null,
      "outputs": [
        {
          "output_type": "execute_result",
          "data": {
            "application/vnd.google.colaboratory.intrinsic+json": {
              "type": "string"
            },
            "text/plain": [
              "'    workclass: Private, Self-emp-not-inc, Self-emp-inc, Federal-gov, Local-gov, State-gov, Without-pay, Never-worked.'"
            ]
          },
          "metadata": {},
          "execution_count": 17
        }
      ]
    },
    {
      "cell_type": "code",
      "metadata": {
        "colab": {
          "base_uri": "https://localhost:8080/",
          "height": 35
        },
        "id": "ORCHkU-ZF3uU",
        "outputId": "7c2ae317-768d-4314-c45e-ef756776092e"
      },
      "source": [
        "header_list[15]"
      ],
      "execution_count": null,
      "outputs": [
        {
          "output_type": "execute_result",
          "data": {
            "application/vnd.google.colaboratory.intrinsic+json": {
              "type": "string"
            },
            "text/plain": [
              "'    '"
            ]
          },
          "metadata": {},
          "execution_count": 18
        }
      ]
    },
    {
      "cell_type": "code",
      "metadata": {
        "colab": {
          "base_uri": "https://localhost:8080/"
        },
        "id": "6uEc-hOxGHva",
        "outputId": "35952dd2-d7f2-4ea2-ef28-3f0d9407123d"
      },
      "source": [
        "header_list2 = header_list[1:15]\n",
        "print(header_list2)"
      ],
      "execution_count": null,
      "outputs": [
        {
          "output_type": "stream",
          "name": "stdout",
          "text": [
            "['    age: continuous.', '    workclass: Private, Self-emp-not-inc, Self-emp-inc, Federal-gov, Local-gov, State-gov, Without-pay, Never-worked.', '    fnlwgt: continuous.', '    education: Bachelors, Some-college, 11th, HS-grad, Prof-school, Assoc-acdm, Assoc-voc, 9th, 7th-8th, 12th, Masters, 1st-4th, 10th, Doctorate, 5th-6th, Preschool.', '    education-num: continuous.', '    marital-status: Married-civ-spouse, Divorced, Never-married, Separated, Widowed, Married-spouse-absent, Married-AF-spouse.', '    occupation: Tech-support, Craft-repair, Other-service, Sales, Exec-managerial, Prof-specialty, Handlers-cleaners, Machine-op-inspct, Adm-clerical, Farming-fishing, Transport-moving, Priv-house-serv, Protective-serv, Armed-Forces.', '    relationship: Wife, Own-child, Husband, Not-in-family, Other-relative, Unmarried.', '    race: White, Asian-Pac-Islander, Amer-Indian-Eskimo, Other, Black.', '    sex: Female, Male.', '    capital-gain: continuous.', '    capital-loss: continuous.', '    hours-per-week: continuous.', '    native-country: United-States, Cambodia, England, Puerto-Rico, Canada, Germany, Outlying-US(Guam-USVI-etc), India, Japan, Greece, South, China, Cuba, Iran, Honduras, Philippines, Italy, Poland, Jamaica, Vietnam, Mexico, Portugal, Ireland, France, Dominican-Republic, Laos, Ecuador, Taiwan, Haiti, Columbia, Hungary, Guatemala, Nicaragua, Scotland, Thailand, Yugoslavia, El-Salvador, Trinadad&Tobago, Peru, Hong, Holand-Netherlands.']\n"
          ]
        }
      ]
    },
    {
      "cell_type": "code",
      "metadata": {
        "colab": {
          "base_uri": "https://localhost:8080/"
        },
        "id": "Uz2VtEwAGbo_",
        "outputId": "501a8b2b-e211-4716-ac92-a54c7ffb3ac9"
      },
      "source": [
        "header_list3 = []\n",
        "\n",
        "for item in header_list2:\n",
        "    header_info = item.split(\":\")\n",
        "    print(header_info[0])\n",
        "    header_list3.append(header_info[0])\n",
        "\n",
        "print(header_list3)"
      ],
      "execution_count": null,
      "outputs": [
        {
          "output_type": "stream",
          "name": "stdout",
          "text": [
            "    age\n",
            "    workclass\n",
            "    fnlwgt\n",
            "    education\n",
            "    education-num\n",
            "    marital-status\n",
            "    occupation\n",
            "    relationship\n",
            "    race\n",
            "    sex\n",
            "    capital-gain\n",
            "    capital-loss\n",
            "    hours-per-week\n",
            "    native-country\n",
            "['    age', '    workclass', '    fnlwgt', '    education', '    education-num', '    marital-status', '    occupation', '    relationship', '    race', '    sex', '    capital-gain', '    capital-loss', '    hours-per-week', '    native-country']\n"
          ]
        }
      ]
    },
    {
      "cell_type": "markdown",
      "metadata": {
        "id": "wkKHT-RaLjUP"
      },
      "source": [
        "## 4. Python Dictionary"
      ]
    },
    {
      "cell_type": "markdown",
      "metadata": {
        "id": "2rQ3WRDmNF4-"
      },
      "source": [
        "How to create a Dictionary?\n",
        "\n"
      ]
    },
    {
      "cell_type": "code",
      "metadata": {
        "colab": {
          "base_uri": "https://localhost:8080/"
        },
        "id": "-d0-62M3NO45",
        "outputId": "03436e10-1668-4791-d2fd-53ce9c560b92"
      },
      "source": [
        "a = {}\n",
        "type(a)"
      ],
      "execution_count": 32,
      "outputs": [
        {
          "output_type": "execute_result",
          "data": {
            "text/plain": [
              "dict"
            ]
          },
          "metadata": {},
          "execution_count": 32
        }
      ]
    },
    {
      "cell_type": "code",
      "metadata": {
        "colab": {
          "base_uri": "https://localhost:8080/"
        },
        "id": "hqexZwstLqQj",
        "outputId": "d0ba8db1-fa4d-4b87-c969-198549ccde8c"
      },
      "source": [
        "x = {\"Age\" : 90}\n",
        "y = {\"Age\" : 23, \"Last_Name\" : \"Dikshitha\", \"Gender\" : \"Female\"}\n",
        "\n",
        "print(x, y)\n"
      ],
      "execution_count": 29,
      "outputs": [
        {
          "output_type": "stream",
          "name": "stdout",
          "text": [
            "{'Age': 90} {'Age': 23, 'Last_Name': 'Dikshitha', 'Gender': 'Female'}\n"
          ]
        }
      ]
    },
    {
      "cell_type": "code",
      "metadata": {
        "colab": {
          "base_uri": "https://localhost:8080/"
        },
        "id": "kGJkeqZmMQww",
        "outputId": "0940e1e3-3267-4bb9-cfc9-cb941cf056a2"
      },
      "source": [
        "y[\"Age\"]"
      ],
      "execution_count": 30,
      "outputs": [
        {
          "output_type": "execute_result",
          "data": {
            "text/plain": [
              "23"
            ]
          },
          "metadata": {},
          "execution_count": 30
        }
      ]
    },
    {
      "cell_type": "code",
      "metadata": {
        "colab": {
          "base_uri": "https://localhost:8080/",
          "height": 35
        },
        "id": "2qoeVmBrMcOT",
        "outputId": "7302d48e-a924-4fe5-cb59-c71e33e0cbcb"
      },
      "source": [
        "y[\"Gender\"]"
      ],
      "execution_count": 31,
      "outputs": [
        {
          "output_type": "execute_result",
          "data": {
            "application/vnd.google.colaboratory.intrinsic+json": {
              "type": "string"
            },
            "text/plain": [
              "'Female'"
            ]
          },
          "metadata": {},
          "execution_count": 31
        }
      ]
    },
    {
      "cell_type": "code",
      "metadata": {
        "colab": {
          "base_uri": "https://localhost:8080/"
        },
        "id": "4wDNzqf1MuJx",
        "outputId": "a7263f71-c72c-406e-8d69-38ec84c8ad3d"
      },
      "source": [
        "# Tuple\n",
        "\n",
        "c = (\"Age\", 80)\n",
        "print(c)"
      ],
      "execution_count": 33,
      "outputs": [
        {
          "output_type": "stream",
          "name": "stdout",
          "text": [
            "('Age', 80)\n"
          ]
        }
      ]
    },
    {
      "cell_type": "code",
      "metadata": {
        "colab": {
          "base_uri": "https://localhost:8080/"
        },
        "id": "mFhV7_6tN_jI",
        "outputId": "b6df9e3a-ed2c-4425-82ff-257b8c7e0aa8"
      },
      "source": [
        "a = dict([(\"Age\", 80)])\n",
        "print(a)"
      ],
      "execution_count": 35,
      "outputs": [
        {
          "output_type": "stream",
          "name": "stdout",
          "text": [
            "{'Age': 80}\n"
          ]
        }
      ]
    },
    {
      "cell_type": "code",
      "metadata": {
        "colab": {
          "base_uri": "https://localhost:8080/"
        },
        "id": "UH8eobDXOUcQ",
        "outputId": "405429eb-7b13-47f5-b808-264f880020f6"
      },
      "source": [
        "a = dict([(\"Age\", 80), (\"Last_Name\", \"Kavali\"), (\"Gender\", \"Female\")])\n",
        "print(a)"
      ],
      "execution_count": 36,
      "outputs": [
        {
          "output_type": "stream",
          "name": "stdout",
          "text": [
            "{'Age': 80, 'Last_Name': 'Kavali', 'Gender': 'Female'}\n"
          ]
        }
      ]
    },
    {
      "cell_type": "code",
      "metadata": {
        "colab": {
          "base_uri": "https://localhost:8080/"
        },
        "id": "KlsVdMZnO0R7",
        "outputId": "706f6621-8df7-4539-e65e-657df1959a73"
      },
      "source": [
        "tuple_list = []\n",
        "\n",
        "for item in header_list2:\n",
        "    header_info = item.split(\":\")\n",
        "    header_tuple = (header_info[0].strip(), header_info[1])  \n",
        "    # Strip is used to remove leading and trailing spaces \n",
        "    tuple_list.append(header_tuple)\n",
        "    \n",
        "\n",
        "print(tuple_list)"
      ],
      "execution_count": 45,
      "outputs": [
        {
          "output_type": "stream",
          "name": "stdout",
          "text": [
            "[('age', ' continuous.'), ('workclass', ' Private, Self-emp-not-inc, Self-emp-inc, Federal-gov, Local-gov, State-gov, Without-pay, Never-worked.'), ('fnlwgt', ' continuous.'), ('education', ' Bachelors, Some-college, 11th, HS-grad, Prof-school, Assoc-acdm, Assoc-voc, 9th, 7th-8th, 12th, Masters, 1st-4th, 10th, Doctorate, 5th-6th, Preschool.'), ('education-num', ' continuous.'), ('marital-status', ' Married-civ-spouse, Divorced, Never-married, Separated, Widowed, Married-spouse-absent, Married-AF-spouse.'), ('occupation', ' Tech-support, Craft-repair, Other-service, Sales, Exec-managerial, Prof-specialty, Handlers-cleaners, Machine-op-inspct, Adm-clerical, Farming-fishing, Transport-moving, Priv-house-serv, Protective-serv, Armed-Forces.'), ('relationship', ' Wife, Own-child, Husband, Not-in-family, Other-relative, Unmarried.'), ('race', ' White, Asian-Pac-Islander, Amer-Indian-Eskimo, Other, Black.'), ('sex', ' Female, Male.'), ('capital-gain', ' continuous.'), ('capital-loss', ' continuous.'), ('hours-per-week', ' continuous.'), ('native-country', ' United-States, Cambodia, England, Puerto-Rico, Canada, Germany, Outlying-US(Guam-USVI-etc), India, Japan, Greece, South, China, Cuba, Iran, Honduras, Philippines, Italy, Poland, Jamaica, Vietnam, Mexico, Portugal, Ireland, France, Dominican-Republic, Laos, Ecuador, Taiwan, Haiti, Columbia, Hungary, Guatemala, Nicaragua, Scotland, Thailand, Yugoslavia, El-Salvador, Trinadad&Tobago, Peru, Hong, Holand-Netherlands.')]\n"
          ]
        }
      ]
    },
    {
      "cell_type": "code",
      "metadata": {
        "colab": {
          "base_uri": "https://localhost:8080/"
        },
        "id": "tpJJngaTQaD3",
        "outputId": "e7b36e38-9ae7-4144-8e10-d2f10e93dd85"
      },
      "source": [
        "header_dict = dict(tuple_list)\n",
        "print(header_dict)"
      ],
      "execution_count": 46,
      "outputs": [
        {
          "output_type": "stream",
          "name": "stdout",
          "text": [
            "{'age': ' continuous.', 'workclass': ' Private, Self-emp-not-inc, Self-emp-inc, Federal-gov, Local-gov, State-gov, Without-pay, Never-worked.', 'fnlwgt': ' continuous.', 'education': ' Bachelors, Some-college, 11th, HS-grad, Prof-school, Assoc-acdm, Assoc-voc, 9th, 7th-8th, 12th, Masters, 1st-4th, 10th, Doctorate, 5th-6th, Preschool.', 'education-num': ' continuous.', 'marital-status': ' Married-civ-spouse, Divorced, Never-married, Separated, Widowed, Married-spouse-absent, Married-AF-spouse.', 'occupation': ' Tech-support, Craft-repair, Other-service, Sales, Exec-managerial, Prof-specialty, Handlers-cleaners, Machine-op-inspct, Adm-clerical, Farming-fishing, Transport-moving, Priv-house-serv, Protective-serv, Armed-Forces.', 'relationship': ' Wife, Own-child, Husband, Not-in-family, Other-relative, Unmarried.', 'race': ' White, Asian-Pac-Islander, Amer-Indian-Eskimo, Other, Black.', 'sex': ' Female, Male.', 'capital-gain': ' continuous.', 'capital-loss': ' continuous.', 'hours-per-week': ' continuous.', 'native-country': ' United-States, Cambodia, England, Puerto-Rico, Canada, Germany, Outlying-US(Guam-USVI-etc), India, Japan, Greece, South, China, Cuba, Iran, Honduras, Philippines, Italy, Poland, Jamaica, Vietnam, Mexico, Portugal, Ireland, France, Dominican-Republic, Laos, Ecuador, Taiwan, Haiti, Columbia, Hungary, Guatemala, Nicaragua, Scotland, Thailand, Yugoslavia, El-Salvador, Trinadad&Tobago, Peru, Hong, Holand-Netherlands.'}\n"
          ]
        }
      ]
    }
  ]
}