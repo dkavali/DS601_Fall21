{
  "nbformat": 4,
  "nbformat_minor": 0,
  "metadata": {
    "colab": {
      "name": "Untitled0.ipynb",
      "provenance": [],
      "include_colab_link": true
    },
    "kernelspec": {
      "name": "python3",
      "display_name": "Python 3"
    },
    "language_info": {
      "name": "python"
    }
  },
  "cells": [
    {
      "cell_type": "markdown",
      "metadata": {
        "id": "view-in-github",
        "colab_type": "text"
      },
      "source": [
        "<a href=\"https://colab.research.google.com/github/dkavali/DS601_Fall21/blob/main/Week01/assignment_01.ipynb\" target=\"_parent\"><img src=\"https://colab.research.google.com/assets/colab-badge.svg\" alt=\"Open In Colab\"/></a>"
      ]
    },
    {
      "cell_type": "markdown",
      "metadata": {
        "id": "pSehf91rFd_k"
      },
      "source": [
        "#Homework\n",
        "###Correct the formatting of markdown cells\n",
        "- Use appropriate headers\n",
        "- Finish the coding sections.\n",
        "##Question-1\n",
        "- Write a Python function to return a list of all the numbers from 1 to n which are divisible by 5. n will be given as an argument to your function.\n"
      ]
    },
    {
      "cell_type": "code",
      "metadata": {
        "colab": {
          "base_uri": "https://localhost:8080/"
        },
        "id": "FUTkRPwSFs3E",
        "outputId": "b3d58c87-fdc1-4157-91c1-934d62e1aef5"
      },
      "source": [
        "# Your Answer Cell\n",
        "# you can edit the function below. \n",
        "# Don't change function name and parameter names.\n",
        "# you can define new variables inside of the function.\n",
        "\n",
        "def divisible_five(given_number):\n",
        "    my_list = []\n",
        "    for i in range(given_number):\n",
        "      if i % 5 == 0:\n",
        "          my_list.append(i) \n",
        "\n",
        "    return my_list\n",
        "\n",
        "divisible_five(121)\n"
      ],
      "execution_count": null,
      "outputs": [
        {
          "output_type": "execute_result",
          "data": {
            "text/plain": [
              "[0,\n",
              " 5,\n",
              " 10,\n",
              " 15,\n",
              " 20,\n",
              " 25,\n",
              " 30,\n",
              " 35,\n",
              " 40,\n",
              " 45,\n",
              " 50,\n",
              " 55,\n",
              " 60,\n",
              " 65,\n",
              " 70,\n",
              " 75,\n",
              " 80,\n",
              " 85,\n",
              " 90,\n",
              " 95,\n",
              " 100,\n",
              " 105,\n",
              " 110,\n",
              " 115,\n",
              " 120]"
            ]
          },
          "metadata": {},
          "execution_count": 4
        }
      ]
    },
    {
      "cell_type": "markdown",
      "metadata": {
        "id": "JvYH4OZ7IXDF"
      },
      "source": [
        "##Question-2\n",
        "Write a function that returns the sum of all the multiples of 3 or 7 below a given number."
      ]
    },
    {
      "cell_type": "code",
      "metadata": {
        "colab": {
          "base_uri": "https://localhost:8080/",
          "height": 317
        },
        "id": "2Vnxs9zqIZq7",
        "outputId": "03b25c86-daa3-414d-8084-adef429d16ae"
      },
      "source": [
        "# Your Answer Cell\n",
        "# you can edit the function below. \n",
        "# Don't change function name and parameter names.\n",
        "# you can define new variables inside of the function.\n",
        "\n",
        "def my_function(given_number):\n",
        "    my_list = []\n",
        "    for i in range(given_number):\n",
        "      if i % 3 == 0 or i % 7 == 0:\n",
        "          my_list.append(i)\n",
        "          sum = 0\n",
        "          sum = sum(my_list)\n",
        "\n",
        "    return sum\n",
        "\n",
        "\n",
        "## your answer above\n",
        "\n",
        "my_function(10000)"
      ],
      "execution_count": null,
      "outputs": [
        {
          "output_type": "error",
          "ename": "TypeError",
          "evalue": "ignored",
          "traceback": [
            "\u001b[0;31m---------------------------------------------------------------------------\u001b[0m",
            "\u001b[0;31mTypeError\u001b[0m                                 Traceback (most recent call last)",
            "\u001b[0;32m<ipython-input-9-270a9a101892>\u001b[0m in \u001b[0;36m<module>\u001b[0;34m()\u001b[0m\n\u001b[1;32m     17\u001b[0m \u001b[0;31m## your answer above\u001b[0m\u001b[0;34m\u001b[0m\u001b[0;34m\u001b[0m\u001b[0;34m\u001b[0m\u001b[0m\n\u001b[1;32m     18\u001b[0m \u001b[0;34m\u001b[0m\u001b[0m\n\u001b[0;32m---> 19\u001b[0;31m \u001b[0mmy_function\u001b[0m\u001b[0;34m(\u001b[0m\u001b[0;36m10000\u001b[0m\u001b[0;34m)\u001b[0m\u001b[0;34m\u001b[0m\u001b[0;34m\u001b[0m\u001b[0m\n\u001b[0m",
            "\u001b[0;32m<ipython-input-9-270a9a101892>\u001b[0m in \u001b[0;36mmy_function\u001b[0;34m(given_number)\u001b[0m\n\u001b[1;32m     10\u001b[0m           \u001b[0mmy_list\u001b[0m\u001b[0;34m.\u001b[0m\u001b[0mappend\u001b[0m\u001b[0;34m(\u001b[0m\u001b[0mi\u001b[0m\u001b[0;34m)\u001b[0m\u001b[0;34m\u001b[0m\u001b[0;34m\u001b[0m\u001b[0m\n\u001b[1;32m     11\u001b[0m           \u001b[0msum\u001b[0m \u001b[0;34m=\u001b[0m \u001b[0;36m0\u001b[0m\u001b[0;34m\u001b[0m\u001b[0;34m\u001b[0m\u001b[0m\n\u001b[0;32m---> 12\u001b[0;31m           \u001b[0msum\u001b[0m \u001b[0;34m=\u001b[0m \u001b[0msum\u001b[0m\u001b[0;34m(\u001b[0m\u001b[0mmy_list\u001b[0m\u001b[0;34m)\u001b[0m\u001b[0;34m\u001b[0m\u001b[0;34m\u001b[0m\u001b[0m\n\u001b[0m\u001b[1;32m     13\u001b[0m \u001b[0;34m\u001b[0m\u001b[0m\n\u001b[1;32m     14\u001b[0m     \u001b[0;32mreturn\u001b[0m \u001b[0msum\u001b[0m\u001b[0;34m\u001b[0m\u001b[0;34m\u001b[0m\u001b[0m\n",
            "\u001b[0;31mTypeError\u001b[0m: 'int' object is not callable"
          ]
        }
      ]
    },
    {
      "cell_type": "markdown",
      "metadata": {
        "id": "79_xyYHaKYVb"
      },
      "source": [
        "##Question-3 (Shell & Magic Commands)\n",
        "Question-3-a\n",
        "Below print current working directory."
      ]
    },
    {
      "cell_type": "code",
      "metadata": {
        "colab": {
          "base_uri": "https://localhost:8080/",
          "height": 37
        },
        "id": "3zBCijbyKdwt",
        "outputId": "e433ec42-076c-4814-939c-08d3bcda19a2"
      },
      "source": [
        "pwd"
      ],
      "execution_count": null,
      "outputs": [
        {
          "output_type": "execute_result",
          "data": {
            "application/vnd.google.colaboratory.intrinsic+json": {
              "type": "string"
            },
            "text/plain": [
              "'/content'"
            ]
          },
          "metadata": {},
          "execution_count": 12
        }
      ]
    },
    {
      "cell_type": "markdown",
      "metadata": {
        "id": "ZgJsc1jPLQ9j"
      },
      "source": [
        "##Question-3-b\n",
        "Below list all the files and folders in the current working directory.\n"
      ]
    },
    {
      "cell_type": "code",
      "metadata": {
        "id": "CeIIFD3nLh7T"
      },
      "source": [
        ""
      ],
      "execution_count": null,
      "outputs": []
    }
  ]
}