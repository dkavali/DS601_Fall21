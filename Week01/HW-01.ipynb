{
  "nbformat": 4,
  "nbformat_minor": 0,
  "metadata": {
    "colab": {
      "name": "Untitled0.ipynb",
      "provenance": [],
      "include_colab_link": true
    },
    "kernelspec": {
      "name": "python3",
      "display_name": "Python 3"
    },
    "language_info": {
      "name": "python"
    }
  },
  "cells": [
    {
      "cell_type": "markdown",
      "metadata": {
        "id": "view-in-github",
        "colab_type": "text"
      },
      "source": [
        "<a href=\"https://colab.research.google.com/github/dkavali/DS601_Fall21/blob/main/Week01/HW-01.ipynb\" target=\"_parent\"><img src=\"https://colab.research.google.com/assets/colab-badge.svg\" alt=\"Open In Colab\"/></a>"
      ]
    },
    {
      "cell_type": "markdown",
      "metadata": {
        "id": "pSehf91rFd_k"
      },
      "source": [
        "#Homework\n",
        "###Correct the formatting of markdown cells\n",
        "- Use appropriate headers\n",
        "- Finish the coding sections.\n",
        "##Question-1\n",
        "- Write a Python function to return a list of all the numbers from 1 to n which are divisible by 5. n will be given as an argument to your function.\n"
      ]
    },
    {
      "cell_type": "code",
      "metadata": {
        "colab": {
          "base_uri": "https://localhost:8080/"
        },
        "id": "FUTkRPwSFs3E",
        "outputId": "b3d58c87-fdc1-4157-91c1-934d62e1aef5"
      },
      "source": [
        "# Your Answer Cell\n",
        "# you can edit the function below. \n",
        "# Don't change function name and parameter names.\n",
        "# you can define new variables inside of the function.\n",
        "\n",
        "def divisible_five(given_number):\n",
        "    my_list = []\n",
        "    for i in range(given_number):\n",
        "      if i % 5 == 0:\n",
        "          my_list.append(i) \n",
        "\n",
        "    return my_list\n",
        "\n",
        "divisible_five(121)\n"
      ],
      "execution_count": null,
      "outputs": [
        {
          "output_type": "execute_result",
          "data": {
            "text/plain": [
              "[0,\n",
              " 5,\n",
              " 10,\n",
              " 15,\n",
              " 20,\n",
              " 25,\n",
              " 30,\n",
              " 35,\n",
              " 40,\n",
              " 45,\n",
              " 50,\n",
              " 55,\n",
              " 60,\n",
              " 65,\n",
              " 70,\n",
              " 75,\n",
              " 80,\n",
              " 85,\n",
              " 90,\n",
              " 95,\n",
              " 100,\n",
              " 105,\n",
              " 110,\n",
              " 115,\n",
              " 120]"
            ]
          },
          "metadata": {},
          "execution_count": 4
        }
      ]
    },
    {
      "cell_type": "markdown",
      "metadata": {
        "id": "JvYH4OZ7IXDF"
      },
      "source": [
        "##Question-2\n",
        "Write a function that returns the sum of all the multiples of 3 or 7 below a given number."
      ]
    },
    {
      "cell_type": "code",
      "metadata": {
        "colab": {
          "base_uri": "https://localhost:8080/"
        },
        "id": "2Vnxs9zqIZq7",
        "outputId": "ed176b1c-8ff0-4da0-9005-e51420f0687d"
      },
      "source": [
        "# Your Answer Cell\n",
        "# you can edit the function below. \n",
        "# Don't change function name and parameter names.\n",
        "# you can define new variables inside of the function.\n",
        "\n",
        "def my_function(given_number):\n",
        "    sum = 0\n",
        "    for i in range(given_number):\n",
        "      if i % 3 == 0 or i % 7 == 0:\n",
        "          sum += i\n",
        "    return sum\n",
        "\n",
        "## your answer above\n",
        "\n",
        "my_function(10000)"
      ],
      "execution_count": null,
      "outputs": [
        {
          "output_type": "execute_result",
          "data": {
            "text/plain": [
              "21426429"
            ]
          },
          "metadata": {},
          "execution_count": 8
        }
      ]
    },
    {
      "cell_type": "markdown",
      "metadata": {
        "id": "79_xyYHaKYVb"
      },
      "source": [
        "##Question-3 (Shell & Magic Commands)\n",
        "Question-3-a\n",
        "Below print current working directory."
      ]
    },
    {
      "cell_type": "code",
      "metadata": {
        "colab": {
          "base_uri": "https://localhost:8080/",
          "height": 35
        },
        "id": "3zBCijbyKdwt",
        "outputId": "6a5f994d-dc86-4038-fc69-aa4580684305"
      },
      "source": [
        "%pwd"
      ],
      "execution_count": null,
      "outputs": [
        {
          "output_type": "execute_result",
          "data": {
            "application/vnd.google.colaboratory.intrinsic+json": {
              "type": "string"
            },
            "text/plain": [
              "'/content'"
            ]
          },
          "metadata": {},
          "execution_count": 1
        }
      ]
    },
    {
      "cell_type": "markdown",
      "metadata": {
        "id": "ZgJsc1jPLQ9j"
      },
      "source": [
        "##Question-3-b\n",
        "Below list all the files and folders in the current working directory.\n"
      ]
    },
    {
      "cell_type": "code",
      "metadata": {
        "id": "CeIIFD3nLh7T",
        "colab": {
          "base_uri": "https://localhost:8080/"
        },
        "outputId": "1770ee68-bdef-46c7-bda8-487395842d7b"
      },
      "source": [
        " ls -p "
      ],
      "execution_count": null,
      "outputs": [
        {
          "output_type": "stream",
          "name": "stdout",
          "text": [
            "\u001b[0m\u001b[01;34msample_data\u001b[0m/\n"
          ]
        }
      ]
    },
    {
      "cell_type": "markdown",
      "metadata": {
        "id": "-tpJRbx77yaI"
      },
      "source": [
        "## Question 3-c\n",
        "\n",
        "Create a new directory within the current working directory 'data'"
      ]
    },
    {
      "cell_type": "code",
      "metadata": {
        "id": "M4XgQJ6D708D"
      },
      "source": [
        "mkdir data"
      ],
      "execution_count": null,
      "outputs": []
    },
    {
      "cell_type": "markdown",
      "metadata": {
        "id": "HWB4tVuu71lj"
      },
      "source": [
        "##Question-3-d\n",
        "\n",
        "Change the working directory to 'data' print current working directory again to make sure that your answer is correct."
      ]
    },
    {
      "cell_type": "code",
      "metadata": {
        "id": "aaPsg3dD76JG",
        "colab": {
          "base_uri": "https://localhost:8080/"
        },
        "outputId": "4ea4f860-88c4-47ae-bebe-e200fde8e0f1"
      },
      "source": [
        "cd data"
      ],
      "execution_count": null,
      "outputs": [
        {
          "output_type": "stream",
          "name": "stdout",
          "text": [
            "/content/data\n"
          ]
        }
      ]
    },
    {
      "cell_type": "code",
      "metadata": {
        "id": "zQQfcexUD5gX",
        "colab": {
          "base_uri": "https://localhost:8080/"
        },
        "outputId": "cca48a74-bf7d-476c-9a4f-dcf49fbac886"
      },
      "source": [
        "!pwd"
      ],
      "execution_count": 12,
      "outputs": [
        {
          "output_type": "stream",
          "name": "stdout",
          "text": [
            "/content\n"
          ]
        }
      ]
    },
    {
      "cell_type": "code",
      "metadata": {
        "id": "L332XGWgQvZv",
        "outputId": "1df59811-e955-4037-8310-2ac4acfc6bd6",
        "colab": {
          "base_uri": "https://localhost:8080/"
        }
      },
      "source": [
        "!which python"
      ],
      "execution_count": 11,
      "outputs": [
        {
          "output_type": "stream",
          "name": "stdout",
          "text": [
            "/usr/local/bin/python\n"
          ]
        }
      ]
    },
    {
      "cell_type": "markdown",
      "metadata": {
        "id": "qXvomrXD76Vy"
      },
      "source": [
        "##Question-3-e\n",
        "\n",
        "Create a new file under 'content/my_directory' and name it 'my_script.py'"
      ]
    },
    {
      "cell_type": "code",
      "metadata": {
        "id": "5RcKlrvx7_UY"
      },
      "source": [
        "mkdir my_directory\n"
      ],
      "execution_count": null,
      "outputs": []
    },
    {
      "cell_type": "code",
      "metadata": {
        "id": "UPede8seELPh",
        "colab": {
          "base_uri": "https://localhost:8080/"
        },
        "outputId": "3c9469c6-d42d-476a-aae9-60bd1ee5b4ab"
      },
      "source": [
        "cd my_directory"
      ],
      "execution_count": null,
      "outputs": [
        {
          "output_type": "stream",
          "name": "stdout",
          "text": [
            "/content/data/my_directory\n"
          ]
        }
      ]
    },
    {
      "cell_type": "code",
      "metadata": {
        "id": "LfaSDkyJPpbj",
        "outputId": "77466489-0d5c-484e-e0dd-3b199fc68fa7",
        "colab": {
          "base_uri": "https://localhost:8080/"
        }
      },
      "source": [
        "!dir"
      ],
      "execution_count": 1,
      "outputs": [
        {
          "output_type": "stream",
          "name": "stdout",
          "text": [
            "sample_data\n"
          ]
        }
      ]
    },
    {
      "cell_type": "code",
      "metadata": {
        "id": "oKGgxMKJFg5y",
        "colab": {
          "base_uri": "https://localhost:8080/"
        },
        "outputId": "8618bb93-c252-4563-a3ff-9c1c4b531cab"
      },
      "source": [
        "#open file\n",
        "f = open(\"my_script.py\", \"x\")\n",
        "#close file\n",
        "f.close"
      ],
      "execution_count": 3,
      "outputs": [
        {
          "output_type": "execute_result",
          "data": {
            "text/plain": [
              "<function TextIOWrapper.close>"
            ]
          },
          "metadata": {},
          "execution_count": 3
        }
      ]
    },
    {
      "cell_type": "markdown",
      "metadata": {
        "id": "jNYsm_Xb7_kA"
      },
      "source": [
        "##Question-3-f\n",
        "\n",
        "Create 'my_script.py' so that it prints 'Your First Name-Your Last Name' and run this script in the cell below."
      ]
    },
    {
      "cell_type": "code",
      "metadata": {
        "id": "P3zyRkftH7K7"
      },
      "source": [
        "f = open(\"my_script.py\")"
      ],
      "execution_count": 4,
      "outputs": []
    },
    {
      "cell_type": "code",
      "metadata": {
        "id": "br8vq403FgPj",
        "colab": {
          "base_uri": "https://localhost:8080/"
        },
        "outputId": "902cde24-a367-4655-ba40-d3cf06d46b8c"
      },
      "source": [
        "f = open('my_script.py', 'w')\n",
        "name = \"Dikshitha Kavali\"\n",
        "# Writing a string to file\n",
        "f.write(name)\n",
        "    \n",
        "# Closing file\n",
        "f.close()\n",
        "  \n",
        "# Checking if the data is written to file or not\n",
        "f = open('my_script.py', 'r')\n",
        "print(f.read())\n",
        "f.close()\n"
      ],
      "execution_count": 9,
      "outputs": [
        {
          "output_type": "stream",
          "name": "stdout",
          "text": [
            "Dikshitha Kavali\n"
          ]
        }
      ]
    },
    {
      "cell_type": "code",
      "metadata": {
        "id": "1Xc_5y0QRGZq"
      },
      "source": [
        "!echo \"Dikshitha kavali\" > my_script.py"
      ],
      "execution_count": 16,
      "outputs": []
    },
    {
      "cell_type": "code",
      "metadata": {
        "id": "U4WWaa2V8HSB"
      },
      "source": [
        "# Commit Done and pushed the notebook to repository"
      ],
      "execution_count": null,
      "outputs": []
    }
  ]
}